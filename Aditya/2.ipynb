{
 "cells": [
  {
   "cell_type": "code",
   "execution_count": 1,
   "metadata": {},
   "outputs": [],
   "source": [
    "import cv2\n",
    "import os\n",
    "import time\n",
    "import uuid"
   ]
  },
  {
   "cell_type": "code",
   "execution_count": 2,
   "metadata": {},
   "outputs": [],
   "source": [
    "IMAGES_PATH = 'Tensorflow/workspace/image/collectedimages'"
   ]
  },
  {
   "cell_type": "code",
   "execution_count": 3,
   "metadata": {},
   "outputs": [],
   "source": [
    "labels = ['hello', 'thanks', 'yes', 'no', 'iloveyou']\n",
    "number_img = 15"
   ]
  },
  {
   "cell_type": "code",
   "execution_count": 4,
   "metadata": {},
   "outputs": [],
   "source": [
    "action_recognition_model = None"
   ]
  },
  {
   "cell_type": "code",
   "execution_count": 5,
   "metadata": {},
   "outputs": [
    {
     "name": "stdout",
     "output_type": "stream",
     "text": [
      "Collecting images for hello\n",
      "Detected action for hello: Unknown\n"
     ]
    },
    {
     "name": "stderr",
     "output_type": "stream",
     "text": [
      "2024-01-06 18:13:34.786 Python[7547:257195] WARNING: Secure coding is not enabled for restorable state! Enable secure coding by implementing NSApplicationDelegate.applicationSupportsSecureRestorableState: and returning YES.\n"
     ]
    },
    {
     "name": "stdout",
     "output_type": "stream",
     "text": [
      "Detected action for hello: Unknown\n",
      "Detected action for hello: Unknown\n",
      "Detected action for hello: Unknown\n",
      "Detected action for hello: Unknown\n",
      "Detected action for hello: Unknown\n",
      "Detected action for hello: Unknown\n",
      "Detected action for hello: Unknown\n",
      "Detected action for hello: Unknown\n",
      "Detected action for hello: Unknown\n",
      "Detected action for hello: Unknown\n",
      "Detected action for hello: Unknown\n",
      "Detected action for hello: Unknown\n",
      "Detected action for hello: Unknown\n",
      "Detected action for hello: Unknown\n",
      "Collecting images for thanks\n",
      "Detected action for thanks: Unknown\n",
      "Detected action for thanks: Unknown\n",
      "Detected action for thanks: Unknown\n",
      "Detected action for thanks: Unknown\n",
      "Detected action for thanks: Unknown\n",
      "Detected action for thanks: Unknown\n",
      "Detected action for thanks: Unknown\n",
      "Detected action for thanks: Unknown\n",
      "Detected action for thanks: Unknown\n",
      "Detected action for thanks: Unknown\n",
      "Detected action for thanks: Unknown\n",
      "Detected action for thanks: Unknown\n"
     ]
    },
    {
     "ename": "",
     "evalue": "",
     "output_type": "error",
     "traceback": [
      "\u001b[1;31mThe Kernel crashed while executing code in the the current cell or a previous cell. Please review the code in the cell(s) to identify a possible cause of the failure. Click <a href='https://aka.ms/vscodeJupyterKernelCrash'>here</a> for more info. View Jupyter <a href='command:jupyter.viewOutput'>log</a> for further details."
     ]
    }
   ],
   "source": [
    "for label in labels:\n",
    "    os.makedirs(os.path.join(IMAGES_PATH, label), exist_ok=True)\n",
    "    cap = cv2.VideoCapture(0)\n",
    "    print(\"Collecting images for {}\".format(label))\n",
    "    time.sleep(5)\n",
    "    for imgnum in range(number_img):\n",
    "        ret, frame = cap.read()\n",
    "        imgname = os.path.join(IMAGES_PATH, label, label + \".\" + \"{}.jpg\".format(str(uuid.uuid1())))\n",
    "        cv2.imwrite(imgname, frame)\n",
    "        cv2.imshow(\"frame\", frame)\n",
    "        time.sleep(2)\n",
    "\n",
    "        # action_label = action_recognition_model.predict(frame)\n",
    "        action_label = \"Unknown\"  # Replace with the actual action label from your model\n",
    "\n",
    "        print(\"Detected action for {}: {}\".format(label, action_label))\n",
    "\n",
    "        if cv2.waitKey(1) & 0xFF == ord(\"q\"):\n",
    "            break\n",
    "\n",
    "    cap.release()\n",
    "    cv2.destroyAllWindows()"
   ]
  }
 ],
 "metadata": {
  "kernelspec": {
   "display_name": "Python 3",
   "language": "python",
   "name": "python3"
  },
  "language_info": {
   "codemirror_mode": {
    "name": "ipython",
    "version": 3
   },
   "file_extension": ".py",
   "mimetype": "text/x-python",
   "name": "python",
   "nbconvert_exporter": "python",
   "pygments_lexer": "ipython3",
   "version": "3.11.5"
  }
 },
 "nbformat": 4,
 "nbformat_minor": 2
}
